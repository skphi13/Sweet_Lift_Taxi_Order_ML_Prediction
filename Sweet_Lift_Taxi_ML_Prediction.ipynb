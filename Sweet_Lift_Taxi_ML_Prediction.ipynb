{
 "cells": [
  {
   "cell_type": "markdown",
   "metadata": {},
   "source": [
    "# Sweet Lift Taxi Time Series Prediction"
   ]
  },
  {
   "cell_type": "markdown",
   "metadata": {},
   "source": [
    "# Project description\n",
    "\n",
    "Sweet Lift Taxi company has collected historical data on taxi orders at airports. To attract more drivers during peak hours, we need to predict the amount of taxi orders for the next hour. Build a model for such a prediction.\n",
    "\n",
    "The RMSE metric on the test set should not be more than 48.\n",
    "\n",
    "## Project instructions\n",
    "\n",
    "1. Download the data and resample it by one hour.\n",
    "2. Analyze the data.\n",
    "3. Train different models with different hyperparameters. The test sample should be 10% of the initial dataset. \n",
    "4. Test the data using the test sample and provide a conclusion.\n",
    "\n",
    "## Data description\n",
    "\n",
    "The data is stored in file `taxi.csv`. The number of orders is in the '*num_orders*' column."
   ]
  },
  {
   "cell_type": "markdown",
   "metadata": {},
   "source": [
    "## Preparation"
   ]
  },
  {
   "cell_type": "code",
   "execution_count": 1,
   "metadata": {},
   "outputs": [],
   "source": [
    "import pandas as pd\n",
    "import numpy as np\n",
    "import matplotlib.pyplot as plt\n",
    "from sklearn.metrics import mean_squared_error\n",
    "from sklearn.model_selection import train_test_split, GridSearchCV, TimeSeriesSplit\n",
    "from sklearn.linear_model import LinearRegression\n",
    "from sklearn.ensemble import RandomForestRegressor, GradientBoostingRegressor\n",
    "from statsmodels.tsa.seasonal import seasonal_decompose\n",
    "\n",
    "\n"
   ]
  },
  {
   "cell_type": "code",
   "execution_count": 2,
   "metadata": {},
   "outputs": [
    {
     "data": {
      "text/html": [
       "<div>\n",
       "<style scoped>\n",
       "    .dataframe tbody tr th:only-of-type {\n",
       "        vertical-align: middle;\n",
       "    }\n",
       "\n",
       "    .dataframe tbody tr th {\n",
       "        vertical-align: top;\n",
       "    }\n",
       "\n",
       "    .dataframe thead th {\n",
       "        text-align: right;\n",
       "    }\n",
       "</style>\n",
       "<table border=\"1\" class=\"dataframe\">\n",
       "  <thead>\n",
       "    <tr style=\"text-align: right;\">\n",
       "      <th></th>\n",
       "      <th>datetime</th>\n",
       "      <th>num_orders</th>\n",
       "    </tr>\n",
       "  </thead>\n",
       "  <tbody>\n",
       "    <tr>\n",
       "      <th>0</th>\n",
       "      <td>2018-03-01 00:00:00</td>\n",
       "      <td>9</td>\n",
       "    </tr>\n",
       "    <tr>\n",
       "      <th>1</th>\n",
       "      <td>2018-03-01 00:10:00</td>\n",
       "      <td>14</td>\n",
       "    </tr>\n",
       "    <tr>\n",
       "      <th>2</th>\n",
       "      <td>2018-03-01 00:20:00</td>\n",
       "      <td>28</td>\n",
       "    </tr>\n",
       "    <tr>\n",
       "      <th>3</th>\n",
       "      <td>2018-03-01 00:30:00</td>\n",
       "      <td>20</td>\n",
       "    </tr>\n",
       "    <tr>\n",
       "      <th>4</th>\n",
       "      <td>2018-03-01 00:40:00</td>\n",
       "      <td>32</td>\n",
       "    </tr>\n",
       "  </tbody>\n",
       "</table>\n",
       "</div>"
      ],
      "text/plain": [
       "              datetime  num_orders\n",
       "0  2018-03-01 00:00:00           9\n",
       "1  2018-03-01 00:10:00          14\n",
       "2  2018-03-01 00:20:00          28\n",
       "3  2018-03-01 00:30:00          20\n",
       "4  2018-03-01 00:40:00          32"
      ]
     },
     "execution_count": 2,
     "metadata": {},
     "output_type": "execute_result"
    }
   ],
   "source": [
    "\n",
    "# Load the data\n",
    "file_path = '/datasets/taxi.csv'\n",
    "data = pd.read_csv(file_path)\n",
    "\n",
    "data.head()\n"
   ]
  },
  {
   "cell_type": "code",
   "execution_count": 3,
   "metadata": {},
   "outputs": [
    {
     "data": {
      "text/html": [
       "<div>\n",
       "<style scoped>\n",
       "    .dataframe tbody tr th:only-of-type {\n",
       "        vertical-align: middle;\n",
       "    }\n",
       "\n",
       "    .dataframe tbody tr th {\n",
       "        vertical-align: top;\n",
       "    }\n",
       "\n",
       "    .dataframe thead th {\n",
       "        text-align: right;\n",
       "    }\n",
       "</style>\n",
       "<table border=\"1\" class=\"dataframe\">\n",
       "  <thead>\n",
       "    <tr style=\"text-align: right;\">\n",
       "      <th></th>\n",
       "      <th>num_orders</th>\n",
       "    </tr>\n",
       "  </thead>\n",
       "  <tbody>\n",
       "    <tr>\n",
       "      <th>count</th>\n",
       "      <td>26496.000000</td>\n",
       "    </tr>\n",
       "    <tr>\n",
       "      <th>mean</th>\n",
       "      <td>14.070463</td>\n",
       "    </tr>\n",
       "    <tr>\n",
       "      <th>std</th>\n",
       "      <td>9.211330</td>\n",
       "    </tr>\n",
       "    <tr>\n",
       "      <th>min</th>\n",
       "      <td>0.000000</td>\n",
       "    </tr>\n",
       "    <tr>\n",
       "      <th>25%</th>\n",
       "      <td>8.000000</td>\n",
       "    </tr>\n",
       "    <tr>\n",
       "      <th>50%</th>\n",
       "      <td>13.000000</td>\n",
       "    </tr>\n",
       "    <tr>\n",
       "      <th>75%</th>\n",
       "      <td>19.000000</td>\n",
       "    </tr>\n",
       "    <tr>\n",
       "      <th>max</th>\n",
       "      <td>119.000000</td>\n",
       "    </tr>\n",
       "  </tbody>\n",
       "</table>\n",
       "</div>"
      ],
      "text/plain": [
       "         num_orders\n",
       "count  26496.000000\n",
       "mean      14.070463\n",
       "std        9.211330\n",
       "min        0.000000\n",
       "25%        8.000000\n",
       "50%       13.000000\n",
       "75%       19.000000\n",
       "max      119.000000"
      ]
     },
     "execution_count": 3,
     "metadata": {},
     "output_type": "execute_result"
    }
   ],
   "source": [
    "data.describe()"
   ]
  },
  {
   "cell_type": "code",
   "execution_count": 4,
   "metadata": {},
   "outputs": [
    {
     "name": "stdout",
     "output_type": "stream",
     "text": [
      "<class 'pandas.core.frame.DataFrame'>\n",
      "RangeIndex: 26496 entries, 0 to 26495\n",
      "Data columns (total 2 columns):\n",
      " #   Column      Non-Null Count  Dtype \n",
      "---  ------      --------------  ----- \n",
      " 0   datetime    26496 non-null  object\n",
      " 1   num_orders  26496 non-null  int64 \n",
      "dtypes: int64(1), object(1)\n",
      "memory usage: 414.1+ KB\n"
     ]
    }
   ],
   "source": [
    "data.info()"
   ]
  },
  {
   "cell_type": "code",
   "execution_count": 5,
   "metadata": {},
   "outputs": [
    {
     "data": {
      "text/plain": [
       "(26496, 2)"
      ]
     },
     "execution_count": 5,
     "metadata": {},
     "output_type": "execute_result"
    }
   ],
   "source": [
    "data.shape"
   ]
  },
  {
   "cell_type": "code",
   "execution_count": 6,
   "metadata": {},
   "outputs": [
    {
     "data": {
      "text/plain": [
       "datetime      0.0\n",
       "num_orders    0.0\n",
       "dtype: float64"
      ]
     },
     "execution_count": 6,
     "metadata": {},
     "output_type": "execute_result"
    }
   ],
   "source": [
    "data.isnull().mean()"
   ]
  },
  {
   "cell_type": "code",
   "execution_count": 7,
   "metadata": {},
   "outputs": [
    {
     "data": {
      "text/plain": [
       "0"
      ]
     },
     "execution_count": 7,
     "metadata": {},
     "output_type": "execute_result"
    }
   ],
   "source": [
    "data.duplicated().sum()"
   ]
  },
  {
   "cell_type": "markdown",
   "metadata": {},
   "source": [
    "#### Observations\n",
    "\n",
    "- The dataset contains 26,496 rows with two columns: datetime (timestamps) and num_orders (number of orders per interval).\n",
    "- Data spans from 2018-03-01 00:00:00 to 2018-08-31 23:50:00, recorded at 10-minute intervals.\n",
    "- Statistics for num_orders: mean ~14.07, std ~9.21, min 0, max 119, and median 13 orders per 10-minute interval.\n",
    "- There are no duplicates"
   ]
  },
  {
   "cell_type": "markdown",
   "metadata": {},
   "source": [
    "## Analysis"
   ]
  },
  {
   "cell_type": "code",
   "execution_count": 8,
   "metadata": {},
   "outputs": [
    {
     "data": {
      "text/html": [
       "<div>\n",
       "<style scoped>\n",
       "    .dataframe tbody tr th:only-of-type {\n",
       "        vertical-align: middle;\n",
       "    }\n",
       "\n",
       "    .dataframe tbody tr th {\n",
       "        vertical-align: top;\n",
       "    }\n",
       "\n",
       "    .dataframe thead th {\n",
       "        text-align: right;\n",
       "    }\n",
       "</style>\n",
       "<table border=\"1\" class=\"dataframe\">\n",
       "  <thead>\n",
       "    <tr style=\"text-align: right;\">\n",
       "      <th></th>\n",
       "      <th>datetime</th>\n",
       "      <th>num_orders</th>\n",
       "    </tr>\n",
       "  </thead>\n",
       "  <tbody>\n",
       "    <tr>\n",
       "      <th>0</th>\n",
       "      <td>2018-03-01 00:00:00</td>\n",
       "      <td>124</td>\n",
       "    </tr>\n",
       "    <tr>\n",
       "      <th>1</th>\n",
       "      <td>2018-03-01 01:00:00</td>\n",
       "      <td>85</td>\n",
       "    </tr>\n",
       "    <tr>\n",
       "      <th>2</th>\n",
       "      <td>2018-03-01 02:00:00</td>\n",
       "      <td>71</td>\n",
       "    </tr>\n",
       "    <tr>\n",
       "      <th>3</th>\n",
       "      <td>2018-03-01 03:00:00</td>\n",
       "      <td>66</td>\n",
       "    </tr>\n",
       "    <tr>\n",
       "      <th>4</th>\n",
       "      <td>2018-03-01 04:00:00</td>\n",
       "      <td>43</td>\n",
       "    </tr>\n",
       "  </tbody>\n",
       "</table>\n",
       "</div>"
      ],
      "text/plain": [
       "             datetime  num_orders\n",
       "0 2018-03-01 00:00:00         124\n",
       "1 2018-03-01 01:00:00          85\n",
       "2 2018-03-01 02:00:00          71\n",
       "3 2018-03-01 03:00:00          66\n",
       "4 2018-03-01 04:00:00          43"
      ]
     },
     "execution_count": 8,
     "metadata": {},
     "output_type": "execute_result"
    }
   ],
   "source": [
    "data['datetime'] = pd.to_datetime(data['datetime'])\n",
    "data = data.set_index('datetime')\n",
    "\n",
    "# Resample the data by hourly intervals, summing up the number of orders\n",
    "data = data.resample('1H').sum()\n",
    "\n",
    "data = data.reset_index()\n",
    "\n",
    "# Inspect the resampled data\n",
    "data.head()"
   ]
  },
  {
   "cell_type": "code",
   "execution_count": 9,
   "metadata": {},
   "outputs": [
    {
     "data": {
      "image/png": "[encoded data removed]",
      "text/plain": [
       "<Figure size 1400x700 with 1 Axes>"
      ]
     },
     "metadata": {},
     "output_type": "display_data"
    }
   ],
   "source": [
    "# Visualize the data\n",
    "plt.figure(figsize=(14, 7))\n",
    "plt.plot(data['num_orders'], label='Number of Orders')\n",
    "plt.title('Number of Taxi Orders Over Time')\n",
    "plt.xlabel('Time')\n",
    "plt.ylabel('Number of Orders')\n",
    "plt.show()"
   ]
  },
  {
   "cell_type": "code",
   "execution_count": 10,
   "metadata": {},
   "outputs": [
    {
     "data": {
      "text/plain": [
       "<Figure size 1200x1500 with 0 Axes>"
      ]
     },
     "metadata": {},
     "output_type": "display_data"
    },
    {
     "data": {
      "image/png": "[encoded data removed]",
      "text/plain": [
       "<Figure size 640x480 with 4 Axes>"
      ]
     },
     "metadata": {},
     "output_type": "display_data"
    }
   ],
   "source": [
    "# Perform seasonal decomposition\n",
    "data = data.set_index('datetime')  # Ensure 'datetime' is the index\n",
    "result = seasonal_decompose(data['num_orders'], model='additive', period=24)  # Assuming daily seasonality (24 hours)\n",
    "\n",
    "# Plot the decomposition results\n",
    "plt.figure(figsize=(12, 15))\n",
    "result.plot()\n",
    "plt.tight_layout()\n",
    "plt.show()\n"
   ]
  },
  {
   "cell_type": "markdown",
   "metadata": {},
   "source": [
    "#### Observations\n",
    "\n",
    "- Trend:This indicates a gradual increase in demand over time, suggesting that the popularity of the service (or orders placed) has grown consistently from March to August 2018.\n",
    "\n",
    "- Seasonality: Shows a clear seasonal pattern with fluctuations that repeat over a fixed period (24 hours in this case). This might indicate typical daily patterns in customer behavior, such as peaks during specific hours.\n",
    "\n",
    "- Residuals: While most residuals are evenly distributed, occasional larger deviations may indicate anomalies or outliers in the data.\n",
    "\n",
    "- The upward trend indicates growth, which is likely positive for the business.\n",
    "\n",
    "- Daily seasonality suggests predictable customer behavior, which can be leveraged for optimizing operations (e.g., staffing or promotions during peak hours).\n"
   ]
  },
  {
   "cell_type": "markdown",
   "metadata": {},
   "source": [
    "## Training"
   ]
  },
  {
   "cell_type": "code",
   "execution_count": 11,
   "metadata": {},
   "outputs": [],
   "source": [
    "def make_features(data, max_lag, rolling_mean_size):\n",
    "    # Extract time-based features from the datetime index\n",
    "    data['month'] = data.index.month\n",
    "    data['day'] = data.index.day\n",
    "    data['hour'] = data.index.hour\n",
    "    data['day_of_week'] = data.index.dayofweek \n",
    "    \n",
    "    # Create lag features\n",
    "    for lag in range(1, max_lag + 1):\n",
    "        data['lag_{}'.format(lag)] = data['num_orders'].shift(lag)\n",
    "    \n",
    "    # Create rolling mean feature\n",
    "    data['rolling_mean'] = data['num_orders'].shift().rolling(rolling_mean_size).mean()\n",
    "    \n",
    "    # Drop rows with missing values (due to lag and rolling mean)\n",
    "    data = data.dropna()\n",
    "    \n",
    "    return data"
   ]
  },
  {
   "cell_type": "code",
   "execution_count": 12,
   "metadata": {},
   "outputs": [],
   "source": [
    "# Create features\n",
    "max_lag = 5  # Number of lag features to create\n",
    "rolling_mean_size = 3  # Size for rolling mean (e.g., 3 hours)\n",
    "data = make_features(data, max_lag, rolling_mean_size)\n",
    "\n",
    "# Define features (X) and target (y)\n",
    "X = data.drop(columns='num_orders')\n",
    "y = data['num_orders']\n",
    "\n",
    "# Split the data into training (90%) and testing (10%) sets\n",
    "X_train, X_test, y_train, y_test = train_test_split(X, y, test_size=0.1, shuffle=False)\n",
    "\n"
   ]
  },
  {
   "cell_type": "code",
   "execution_count": 13,
   "metadata": {},
   "outputs": [
    {
     "name": "stdout",
     "output_type": "stream",
     "text": [
      "Linear Regression RMSE: 52.69\n"
     ]
    }
   ],
   "source": [
    "# Testing Linear Regression\n",
    "lr = LinearRegression()\n",
    "lr.fit(X_train, y_train)\n",
    "y_pred_lr = lr.predict(X_test)\n",
    "rmse_lr = np.sqrt(mean_squared_error(y_test, y_pred_lr))\n",
    "print(f'Linear Regression RMSE: {rmse_lr:.2f}')"
   ]
  },
  {
   "cell_type": "code",
   "execution_count": 14,
   "metadata": {},
   "outputs": [
    {
     "name": "stdout",
     "output_type": "stream",
     "text": [
      "Random Forest RMSE (untuned): 46.95\n"
     ]
    }
   ],
   "source": [
    "# Random Forest Regressor (without hyperparameter tuning)\n",
    "rf = RandomForestRegressor(n_estimators=100, random_state=42)\n",
    "rf.fit(X_train, y_train)\n",
    "y_pred_rf = rf.predict(X_test)\n",
    "rmse_rf = np.sqrt(mean_squared_error(y_test, y_pred_rf))\n",
    "print(f'Random Forest RMSE (untuned): {rmse_rf:.2f}')"
   ]
  },
  {
   "cell_type": "code",
   "execution_count": 15,
   "metadata": {},
   "outputs": [
    {
     "name": "stdout",
     "output_type": "stream",
     "text": [
      "Gradient Boosting RMSE: 48.46\n"
     ]
    }
   ],
   "source": [
    "# Gradient Boosting Regressor\n",
    "gb = GradientBoostingRegressor(n_estimators=100, random_state=42)\n",
    "gb.fit(X_train, y_train)\n",
    "y_pred_gb = gb.predict(X_test)\n",
    "rmse_gb = np.sqrt(mean_squared_error(y_test, y_pred_gb))\n",
    "print(f'Gradient Boosting RMSE: {rmse_gb:.2f}')"
   ]
  },
  {
   "cell_type": "code",
   "execution_count": 17,
   "metadata": {},
   "outputs": [
    {
     "name": "stdout",
     "output_type": "stream",
     "text": [
      "Fitting 5 folds for each of 16 candidates, totalling 80 fits\n",
      "[CV] END bootstrap=True, max_depth=10, min_samples_leaf=1, min_samples_split=2, n_estimators=50; total time=   0.1s\n",
      "[CV] END bootstrap=True, max_depth=10, min_samples_leaf=1, min_samples_split=2, n_estimators=50; total time=   0.2s\n",
      "[CV] END bootstrap=True, max_depth=10, min_samples_leaf=1, min_samples_split=2, n_estimators=50; total time=   0.3s\n",
      "[CV] END bootstrap=True, max_depth=10, min_samples_leaf=1, min_samples_split=2, n_estimators=50; total time=   0.4s\n",
      "[CV] END bootstrap=True, max_depth=10, min_samples_leaf=1, min_samples_split=2, n_estimators=50; total time=   0.4s\n",
      "[CV] END bootstrap=True, max_depth=10, min_samples_leaf=1, min_samples_split=2, n_estimators=100; total time=   0.2s\n",
      "[CV] END bootstrap=True, max_depth=10, min_samples_leaf=1, min_samples_split=2, n_estimators=100; total time=   0.4s\n",
      "[CV] END bootstrap=True, max_depth=10, min_samples_leaf=1, min_samples_split=2, n_estimators=100; total time=   0.5s\n",
      "[CV] END bootstrap=True, max_depth=10, min_samples_leaf=1, min_samples_split=2, n_estimators=100; total time=   0.7s\n",
      "[CV] END bootstrap=True, max_depth=10, min_samples_leaf=1, min_samples_split=2, n_estimators=100; total time=   0.9s\n",
      "[CV] END bootstrap=True, max_depth=10, min_samples_leaf=1, min_samples_split=5, n_estimators=50; total time=   0.1s\n",
      "[CV] END bootstrap=True, max_depth=10, min_samples_leaf=1, min_samples_split=5, n_estimators=50; total time=   0.2s\n",
      "[CV] END bootstrap=True, max_depth=10, min_samples_leaf=1, min_samples_split=5, n_estimators=50; total time=   0.3s\n",
      "[CV] END bootstrap=True, max_depth=10, min_samples_leaf=1, min_samples_split=5, n_estimators=50; total time=   0.4s\n",
      "[CV] END bootstrap=True, max_depth=10, min_samples_leaf=1, min_samples_split=5, n_estimators=50; total time=   0.4s\n",
      "[CV] END bootstrap=True, max_depth=10, min_samples_leaf=1, min_samples_split=5, n_estimators=100; total time=   0.2s\n",
      "[CV] END bootstrap=True, max_depth=10, min_samples_leaf=1, min_samples_split=5, n_estimators=100; total time=   0.4s\n",
      "[CV] END bootstrap=True, max_depth=10, min_samples_leaf=1, min_samples_split=5, n_estimators=100; total time=   0.5s\n",
      "[CV] END bootstrap=True, max_depth=10, min_samples_leaf=1, min_samples_split=5, n_estimators=100; total time=   0.7s\n",
      "[CV] END bootstrap=True, max_depth=10, min_samples_leaf=1, min_samples_split=5, n_estimators=100; total time=   0.9s\n",
      "[CV] END bootstrap=True, max_depth=10, min_samples_leaf=2, min_samples_split=2, n_estimators=50; total time=   0.1s\n",
      "[CV] END bootstrap=True, max_depth=10, min_samples_leaf=2, min_samples_split=2, n_estimators=50; total time=   0.2s\n",
      "[CV] END bootstrap=True, max_depth=10, min_samples_leaf=2, min_samples_split=2, n_estimators=50; total time=   0.3s\n",
      "[CV] END bootstrap=True, max_depth=10, min_samples_leaf=2, min_samples_split=2, n_estimators=50; total time=   0.4s\n",
      "[CV] END bootstrap=True, max_depth=10, min_samples_leaf=2, min_samples_split=2, n_estimators=50; total time=   0.4s\n",
      "[CV] END bootstrap=True, max_depth=10, min_samples_leaf=2, min_samples_split=2, n_estimators=100; total time=   0.2s\n",
      "[CV] END bootstrap=True, max_depth=10, min_samples_leaf=2, min_samples_split=2, n_estimators=100; total time=   0.4s\n",
      "[CV] END bootstrap=True, max_depth=10, min_samples_leaf=2, min_samples_split=2, n_estimators=100; total time=   0.5s\n",
      "[CV] END bootstrap=True, max_depth=10, min_samples_leaf=2, min_samples_split=2, n_estimators=100; total time=   0.7s\n",
      "[CV] END bootstrap=True, max_depth=10, min_samples_leaf=2, min_samples_split=2, n_estimators=100; total time=   0.9s\n",
      "[CV] END bootstrap=True, max_depth=10, min_samples_leaf=2, min_samples_split=5, n_estimators=50; total time=   0.1s\n",
      "[CV] END bootstrap=True, max_depth=10, min_samples_leaf=2, min_samples_split=5, n_estimators=50; total time=   0.2s\n",
      "[CV] END bootstrap=True, max_depth=10, min_samples_leaf=2, min_samples_split=5, n_estimators=50; total time=   0.3s\n",
      "[CV] END bootstrap=True, max_depth=10, min_samples_leaf=2, min_samples_split=5, n_estimators=50; total time=   0.3s\n",
      "[CV] END bootstrap=True, max_depth=10, min_samples_leaf=2, min_samples_split=5, n_estimators=50; total time=   0.4s\n",
      "[CV] END bootstrap=True, max_depth=10, min_samples_leaf=2, min_samples_split=5, n_estimators=100; total time=   0.2s\n",
      "[CV] END bootstrap=True, max_depth=10, min_samples_leaf=2, min_samples_split=5, n_estimators=100; total time=   0.4s\n",
      "[CV] END bootstrap=True, max_depth=10, min_samples_leaf=2, min_samples_split=5, n_estimators=100; total time=   0.5s\n",
      "[CV] END bootstrap=True, max_depth=10, min_samples_leaf=2, min_samples_split=5, n_estimators=100; total time=   0.7s\n",
      "[CV] END bootstrap=True, max_depth=10, min_samples_leaf=2, min_samples_split=5, n_estimators=100; total time=   0.9s\n",
      "[CV] END bootstrap=True, max_depth=20, min_samples_leaf=1, min_samples_split=2, n_estimators=50; total time=   0.1s\n",
      "[CV] END bootstrap=True, max_depth=20, min_samples_leaf=1, min_samples_split=2, n_estimators=50; total time=   0.2s\n",
      "[CV] END bootstrap=True, max_depth=20, min_samples_leaf=1, min_samples_split=2, n_estimators=50; total time=   0.4s\n",
      "[CV] END bootstrap=True, max_depth=20, min_samples_leaf=1, min_samples_split=2, n_estimators=50; total time=   0.5s\n",
      "[CV] END bootstrap=True, max_depth=20, min_samples_leaf=1, min_samples_split=2, n_estimators=50; total time=   0.6s\n",
      "[CV] END bootstrap=True, max_depth=20, min_samples_leaf=1, min_samples_split=2, n_estimators=100; total time=   0.2s\n",
      "[CV] END bootstrap=True, max_depth=20, min_samples_leaf=1, min_samples_split=2, n_estimators=100; total time=   0.5s\n",
      "[CV] END bootstrap=True, max_depth=20, min_samples_leaf=1, min_samples_split=2, n_estimators=100; total time=   0.7s\n",
      "[CV] END bootstrap=True, max_depth=20, min_samples_leaf=1, min_samples_split=2, n_estimators=100; total time=   1.0s\n",
      "[CV] END bootstrap=True, max_depth=20, min_samples_leaf=1, min_samples_split=2, n_estimators=100; total time=   1.2s\n",
      "[CV] END bootstrap=True, max_depth=20, min_samples_leaf=1, min_samples_split=5, n_estimators=50; total time=   0.1s\n",
      "[CV] END bootstrap=True, max_depth=20, min_samples_leaf=1, min_samples_split=5, n_estimators=50; total time=   0.2s\n",
      "[CV] END bootstrap=True, max_depth=20, min_samples_leaf=1, min_samples_split=5, n_estimators=50; total time=   0.3s\n",
      "[CV] END bootstrap=True, max_depth=20, min_samples_leaf=1, min_samples_split=5, n_estimators=50; total time=   0.4s\n",
      "[CV] END bootstrap=True, max_depth=20, min_samples_leaf=1, min_samples_split=5, n_estimators=50; total time=   0.5s\n",
      "[CV] END bootstrap=True, max_depth=20, min_samples_leaf=1, min_samples_split=5, n_estimators=100; total time=   0.2s\n",
      "[CV] END bootstrap=True, max_depth=20, min_samples_leaf=1, min_samples_split=5, n_estimators=100; total time=   0.4s\n",
      "[CV] END bootstrap=True, max_depth=20, min_samples_leaf=1, min_samples_split=5, n_estimators=100; total time=   0.7s\n",
      "[CV] END bootstrap=True, max_depth=20, min_samples_leaf=1, min_samples_split=5, n_estimators=100; total time=   0.9s\n",
      "[CV] END bootstrap=True, max_depth=20, min_samples_leaf=1, min_samples_split=5, n_estimators=100; total time=   1.1s\n",
      "[CV] END bootstrap=True, max_depth=20, min_samples_leaf=2, min_samples_split=2, n_estimators=50; total time=   0.1s\n",
      "[CV] END bootstrap=True, max_depth=20, min_samples_leaf=2, min_samples_split=2, n_estimators=50; total time=   0.2s\n",
      "[CV] END bootstrap=True, max_depth=20, min_samples_leaf=2, min_samples_split=2, n_estimators=50; total time=   0.3s\n",
      "[CV] END bootstrap=True, max_depth=20, min_samples_leaf=2, min_samples_split=2, n_estimators=50; total time=   0.4s\n",
      "[CV] END bootstrap=True, max_depth=20, min_samples_leaf=2, min_samples_split=2, n_estimators=50; total time=   0.5s\n",
      "[CV] END bootstrap=True, max_depth=20, min_samples_leaf=2, min_samples_split=2, n_estimators=100; total time=   0.2s\n",
      "[CV] END bootstrap=True, max_depth=20, min_samples_leaf=2, min_samples_split=2, n_estimators=100; total time=   0.4s\n",
      "[CV] END bootstrap=True, max_depth=20, min_samples_leaf=2, min_samples_split=2, n_estimators=100; total time=   0.6s\n",
      "[CV] END bootstrap=True, max_depth=20, min_samples_leaf=2, min_samples_split=2, n_estimators=100; total time=   0.8s\n",
      "[CV] END bootstrap=True, max_depth=20, min_samples_leaf=2, min_samples_split=2, n_estimators=100; total time=   1.1s\n",
      "[CV] END bootstrap=True, max_depth=20, min_samples_leaf=2, min_samples_split=5, n_estimators=50; total time=   0.1s\n"
     ]
    },
    {
     "name": "stdout",
     "output_type": "stream",
     "text": [
      "[CV] END bootstrap=True, max_depth=20, min_samples_leaf=2, min_samples_split=5, n_estimators=50; total time=   0.2s\n",
      "[CV] END bootstrap=True, max_depth=20, min_samples_leaf=2, min_samples_split=5, n_estimators=50; total time=   0.3s\n",
      "[CV] END bootstrap=True, max_depth=20, min_samples_leaf=2, min_samples_split=5, n_estimators=50; total time=   0.4s\n",
      "[CV] END bootstrap=True, max_depth=20, min_samples_leaf=2, min_samples_split=5, n_estimators=50; total time=   0.5s\n",
      "[CV] END bootstrap=True, max_depth=20, min_samples_leaf=2, min_samples_split=5, n_estimators=100; total time=   0.2s\n",
      "[CV] END bootstrap=True, max_depth=20, min_samples_leaf=2, min_samples_split=5, n_estimators=100; total time=   0.4s\n",
      "[CV] END bootstrap=True, max_depth=20, min_samples_leaf=2, min_samples_split=5, n_estimators=100; total time=   0.6s\n",
      "[CV] END bootstrap=True, max_depth=20, min_samples_leaf=2, min_samples_split=5, n_estimators=100; total time=   0.9s\n",
      "[CV] END bootstrap=True, max_depth=20, min_samples_leaf=2, min_samples_split=5, n_estimators=100; total time=   1.0s\n",
      "Best Hyperparameters: {'bootstrap': True, 'max_depth': 20, 'min_samples_leaf': 1, 'min_samples_split': 5, 'n_estimators': 100}\n"
     ]
    }
   ],
   "source": [
    "# Hyperparameter Tuning for Random Forest using GridSearchCV\n",
    "\n",
    "# Create TimeSeriesSplit object\n",
    "tscv = TimeSeriesSplit(n_splits=5)\n",
    "\n",
    "# Define the Random Forest model for tuning\n",
    "rf_tune = RandomForestRegressor(random_state=42)\n",
    "\n",
    "# Define the hyperparameter grid to search\n",
    "param_grid = {\n",
    "    'n_estimators': [50, 100],  # Number of trees\n",
    "    'max_depth': [10, 20],  # Maximum depth of trees \n",
    "    'min_samples_split': [2, 5],  # Minimum samples to split\n",
    "    'min_samples_leaf': [1, 2],  # Minimum samples at leaf\n",
    "    'bootstrap': [True]  # Only test the 'True' option for bootstrap\n",
    "}\n",
    "\n",
    "# Perform GridSearchCV with TimeSeriesSplit\n",
    "grid_search = GridSearchCV(\n",
    "    estimator=rf_tune,\n",
    "    param_grid=param_grid,\n",
    "    cv=tscv,  # Use TimeSeriesSplit as the cross-validation strategy\n",
    "    scoring='neg_mean_squared_error',\n",
    "    n_jobs=-1,\n",
    "    verbose=2\n",
    ")\n",
    "\n",
    "# Fit the grid search to training data\n",
    "grid_search.fit(X_train, y_train)\n",
    "\n",
    "# Get the best hyperparameters\n",
    "best_params = grid_search.best_params_\n",
    "print(f\"Best Hyperparameters: {best_params}\")"
   ]
  },
  {
   "cell_type": "code",
   "execution_count": 18,
   "metadata": {},
   "outputs": [
    {
     "name": "stdout",
     "output_type": "stream",
     "text": [
      "Random Forest RMSE with Hyperparameter Tuning: 46.73\n"
     ]
    }
   ],
   "source": [
    "# Use the best model from the grid search\n",
    "best_rf = grid_search.best_estimator_\n",
    "\n",
    "# Make predictions on the test set\n",
    "y_pred_rf_best = best_rf.predict(X_test)\n",
    "\n",
    "# Calculate RMSE for the tuned model\n",
    "rmse_rf_best = np.sqrt(mean_squared_error(y_test, y_pred_rf_best))\n",
    "print(f\"Random Forest RMSE with Hyperparameter Tuning: {rmse_rf_best:.2f}\")\n"
   ]
  },
  {
   "cell_type": "code",
   "execution_count": 19,
   "metadata": {},
   "outputs": [
    {
     "name": "stdout",
     "output_type": "stream",
     "text": [
      "\n",
      "Model Comparison:\n",
      "Linear Regression RMSE: 52.69\n",
      "Random Forest RMSE (untuned): 46.95\n",
      "Gradient Boosting RMSE: 48.46\n",
      "Random Forest RMSE (tuned): 46.73\n"
     ]
    }
   ],
   "source": [
    "# Model comparison\n",
    "print(\"\\nModel Comparison:\")\n",
    "print(f\"Linear Regression RMSE: {rmse_lr:.2f}\")\n",
    "print(f\"Random Forest RMSE (untuned): {rmse_rf:.2f}\")\n",
    "print(f\"Gradient Boosting RMSE: {rmse_gb:.2f}\")\n",
    "print(f\"Random Forest RMSE (tuned): {rmse_rf_best:.2f}\")"
   ]
  },
  {
   "cell_type": "markdown",
   "metadata": {},
   "source": [
    "#### Observations\n",
    "\n",
    "The tuned Random Forest model is the best performing, slightly outperforming the untuned Random Forest and Gradient Boosting models. Linear Regression has the highest error, making it the least effective in this case."
   ]
  },
  {
   "cell_type": "markdown",
   "metadata": {},
   "source": [
    "## Testing"
   ]
  },
  {
   "cell_type": "code",
   "execution_count": 20,
   "metadata": {},
   "outputs": [
    {
     "name": "stdout",
     "output_type": "stream",
     "text": [
      "Random Forest RMSE on Test Set: 46.73\n",
      "\n",
      "First few predictions vs actual values:\n",
      "                     Actual   Predicted  Difference\n",
      "datetime                                           \n",
      "2018-08-13 14:00:00     102   96.007533    5.992467\n",
      "2018-08-13 15:00:00     175   99.591853   75.408147\n",
      "2018-08-13 16:00:00     144  129.102199   14.897801\n",
      "2018-08-13 17:00:00     152  121.440881   30.559119\n",
      "2018-08-13 18:00:00     104   96.632599    7.367401\n",
      "\n",
      "The RMSE goal has been met!\n"
     ]
    }
   ],
   "source": [
    "# Evaluate the tuned Random Forest model on the test set\n",
    "\n",
    "# Make predictions on the test set\n",
    "y_pred_rf_best = best_rf.predict(X_test)\n",
    "\n",
    "# Calculate RMSE for the tuned model on the test set\n",
    "rmse_rf_best_test = np.sqrt(mean_squared_error(y_test, y_pred_rf_best))\n",
    "print(f\"Random Forest RMSE on Test Set: {rmse_rf_best_test:.2f}\")\n",
    "\n",
    "# Compare predictions with actual values\n",
    "comparison = pd.DataFrame({'Actual': y_test, 'Predicted': y_pred_rf_best})\n",
    "comparison['Difference'] = comparison['Actual'] - comparison['Predicted']\n",
    "\n",
    "# Display the first few rows of the comparison\n",
    "print(\"\\nFirst few predictions vs actual values:\")\n",
    "print(comparison.head())\n",
    "\n",
    "# Check if RMSE goal of 48 is met\n",
    "if rmse_rf_best_test <= 48:\n",
    "    print(\"\\nThe RMSE goal has been met!\")\n",
    "else:\n",
    "    print(\"\\nThe RMSE goal has not been met.\")\n"
   ]
  },
  {
   "cell_type": "markdown",
   "metadata": {},
   "source": [
    "### Conclusion\n",
    "\n",
    "- Data Analysis revealed hourly fluctuations in taxi orders, with seasonal patterns and variability across different times of day and days of the week.\n",
    "- The best-performing model was the tuned Random Forest, with hyperparameters optimized for accuracy, achieving an RMSE of 46.73.\n",
    "- The RMSE goal of 48 was successfully met, indicating the model's satisfactory predictive performance.\n",
    "- Future improvements could include incorporating additional features (e.g., weather, holidays), testing advanced models (e.g., XGBoost, LSTM), and addressing outliers."
   ]
  },
  {
   "cell_type": "markdown",
   "metadata": {},
   "source": [
    "# Review checklist"
   ]
  },
  {
   "cell_type": "markdown",
   "metadata": {},
   "source": [
    "- [x]  Jupyter Notebook is open\n",
    "- [ ]  The code is error-free\n",
    "- [ ]  The cells with the code have been arranged in order of execution\n",
    "- [ ]  The data has been downloaded and prepared\n",
    "- [ ]  The data has been analyzed\n",
    "- [ ]  The model has been trained and hyperparameters have been selected\n",
    "- [ ]  The models have been evaluated. Conclusion has been provided\n",
    "- [ ] *RMSE* for the test set is not more than 48"
   ]
  }
 ],
 "metadata": {
  "ExecuteTimeLog": [
   {
    "duration": 2646,
    "start_time": "2024-12-13T04:27:16.840Z"
   },
   {
    "duration": 585,
    "start_time": "2024-12-13T04:27:19.488Z"
   },
   {
    "duration": 501,
    "start_time": "2024-12-13T04:28:37.195Z"
   },
   {
    "duration": 22,
    "start_time": "2024-12-13T04:29:24.098Z"
   },
   {
    "duration": 16,
    "start_time": "2024-12-13T04:31:35.597Z"
   },
   {
    "duration": 9,
    "start_time": "2024-12-13T04:32:53.748Z"
   },
   {
    "duration": 8,
    "start_time": "2024-12-13T04:33:08.170Z"
   },
   {
    "duration": 3,
    "start_time": "2024-12-13T04:33:26.601Z"
   },
   {
    "duration": 3,
    "start_time": "2024-12-13T04:34:19.263Z"
   },
   {
    "duration": 20,
    "start_time": "2024-12-13T04:34:19.687Z"
   },
   {
    "duration": 10,
    "start_time": "2024-12-13T04:34:22.760Z"
   },
   {
    "duration": 9,
    "start_time": "2024-12-13T04:34:26.366Z"
   },
   {
    "duration": 4,
    "start_time": "2024-12-13T04:34:30.220Z"
   },
   {
    "duration": 7,
    "start_time": "2024-12-13T04:34:57.730Z"
   },
   {
    "duration": 12,
    "start_time": "2024-12-13T04:35:14.616Z"
   },
   {
    "duration": 367,
    "start_time": "2024-12-13T04:41:39.587Z"
   },
   {
    "duration": 28,
    "start_time": "2024-12-13T04:41:44.879Z"
   },
   {
    "duration": 14,
    "start_time": "2024-12-13T04:42:49.474Z"
   },
   {
    "duration": 212,
    "start_time": "2024-12-13T04:43:15.755Z"
   },
   {
    "duration": 53,
    "start_time": "2024-12-13T04:51:32.119Z"
   },
   {
    "duration": 5,
    "start_time": "2024-12-13T04:51:59.850Z"
   },
   {
    "duration": 46,
    "start_time": "2024-12-13T04:52:41.006Z"
   },
   {
    "duration": 3,
    "start_time": "2024-12-13T04:52:50.215Z"
   },
   {
    "duration": 20,
    "start_time": "2024-12-13T04:52:50.690Z"
   },
   {
    "duration": 10,
    "start_time": "2024-12-13T04:52:51.380Z"
   },
   {
    "duration": 9,
    "start_time": "2024-12-13T04:52:51.726Z"
   },
   {
    "duration": 4,
    "start_time": "2024-12-13T04:52:52.027Z"
   },
   {
    "duration": 6,
    "start_time": "2024-12-13T04:52:52.422Z"
   },
   {
    "duration": 10,
    "start_time": "2024-12-13T04:52:52.586Z"
   },
   {
    "duration": 34,
    "start_time": "2024-12-13T04:52:53.886Z"
   },
   {
    "duration": 15,
    "start_time": "2024-12-13T04:53:13.695Z"
   },
   {
    "duration": 3,
    "start_time": "2024-12-13T04:54:58.742Z"
   },
   {
    "duration": 43,
    "start_time": "2024-12-13T04:56:44.661Z"
   },
   {
    "duration": 5,
    "start_time": "2024-12-13T04:57:03.665Z"
   },
   {
    "duration": 2,
    "start_time": "2024-12-13T04:57:08.692Z"
   },
   {
    "duration": 19,
    "start_time": "2024-12-13T04:57:09.694Z"
   },
   {
    "duration": 11,
    "start_time": "2024-12-13T04:57:10.278Z"
   },
   {
    "duration": 9,
    "start_time": "2024-12-13T04:57:10.512Z"
   },
   {
    "duration": 3,
    "start_time": "2024-12-13T04:57:10.702Z"
   },
   {
    "duration": 7,
    "start_time": "2024-12-13T04:57:11.081Z"
   },
   {
    "duration": 11,
    "start_time": "2024-12-13T04:57:11.285Z"
   },
   {
    "duration": 6,
    "start_time": "2024-12-13T04:57:13.696Z"
   },
   {
    "duration": 14,
    "start_time": "2024-12-13T04:57:16.491Z"
   },
   {
    "duration": 3,
    "start_time": "2024-12-13T04:57:21.167Z"
   },
   {
    "duration": 44,
    "start_time": "2024-12-13T04:58:30.975Z"
   },
   {
    "duration": 5,
    "start_time": "2024-12-13T04:58:38.202Z"
   },
   {
    "duration": 981,
    "start_time": "2024-12-13T04:58:48.589Z"
   },
   {
    "duration": 22,
    "start_time": "2024-12-13T04:58:49.572Z"
   },
   {
    "duration": 10,
    "start_time": "2024-12-13T04:58:49.596Z"
   },
   {
    "duration": 78,
    "start_time": "2024-12-13T04:58:49.608Z"
   },
   {
    "duration": 3,
    "start_time": "2024-12-13T04:58:49.689Z"
   },
   {
    "duration": 7,
    "start_time": "2024-12-13T04:58:49.694Z"
   },
   {
    "duration": 9,
    "start_time": "2024-12-13T04:58:49.702Z"
   },
   {
    "duration": 6,
    "start_time": "2024-12-13T04:58:49.713Z"
   },
   {
    "duration": 16,
    "start_time": "2024-12-13T04:58:49.721Z"
   },
   {
    "duration": 5,
    "start_time": "2024-12-13T04:58:49.740Z"
   },
   {
    "duration": 235,
    "start_time": "2024-12-13T04:58:49.748Z"
   },
   {
    "duration": 7,
    "start_time": "2024-12-13T04:58:49.985Z"
   },
   {
    "duration": 498,
    "start_time": "2024-12-13T04:58:49.994Z"
   },
   {
    "duration": 3,
    "start_time": "2024-12-13T04:59:21.477Z"
   },
   {
    "duration": 194,
    "start_time": "2024-12-13T04:59:29.525Z"
   },
   {
    "duration": 5,
    "start_time": "2024-12-13T04:59:32.886Z"
   },
   {
    "duration": 445,
    "start_time": "2024-12-13T04:59:35.819Z"
   },
   {
    "duration": 7,
    "start_time": "2024-12-13T05:01:06.606Z"
   },
   {
    "duration": 219,
    "start_time": "2024-12-13T05:01:12.233Z"
   },
   {
    "duration": 899,
    "start_time": "2024-12-13T05:01:39.857Z"
   },
   {
    "duration": 28,
    "start_time": "2024-12-13T05:01:40.759Z"
   },
   {
    "duration": 11,
    "start_time": "2024-12-13T05:01:40.789Z"
   },
   {
    "duration": 60,
    "start_time": "2024-12-13T05:01:40.801Z"
   },
   {
    "duration": 22,
    "start_time": "2024-12-13T05:01:40.865Z"
   },
   {
    "duration": 6,
    "start_time": "2024-12-13T05:01:40.889Z"
   },
   {
    "duration": 9,
    "start_time": "2024-12-13T05:01:40.897Z"
   },
   {
    "duration": 6,
    "start_time": "2024-12-13T05:01:40.907Z"
   },
   {
    "duration": 15,
    "start_time": "2024-12-13T05:01:40.914Z"
   },
   {
    "duration": 3,
    "start_time": "2024-12-13T05:01:40.931Z"
   },
   {
    "duration": 240,
    "start_time": "2024-12-13T05:01:40.935Z"
   },
   {
    "duration": 7,
    "start_time": "2024-12-13T05:01:41.177Z"
   },
   {
    "duration": 483,
    "start_time": "2024-12-13T05:01:41.187Z"
   },
   {
    "duration": 361,
    "start_time": "2024-12-13T05:03:04.964Z"
   },
   {
    "duration": 4,
    "start_time": "2024-12-13T05:11:36.391Z"
   },
   {
    "duration": 10,
    "start_time": "2024-12-13T05:15:04.625Z"
   },
   {
    "duration": 11,
    "start_time": "2024-12-13T05:15:29.016Z"
   },
   {
    "duration": 9,
    "start_time": "2024-12-13T05:15:47.406Z"
   },
   {
    "duration": 249,
    "start_time": "2024-12-13T05:16:11.557Z"
   },
   {
    "duration": 4,
    "start_time": "2024-12-13T05:17:12.295Z"
   },
   {
    "duration": 9,
    "start_time": "2024-12-13T05:17:18.205Z"
   },
   {
    "duration": 1040,
    "start_time": "2024-12-13T05:17:30.099Z"
   },
   {
    "duration": 23,
    "start_time": "2024-12-13T05:17:31.141Z"
   },
   {
    "duration": 21,
    "start_time": "2024-12-13T05:17:31.166Z"
   },
   {
    "duration": 10,
    "start_time": "2024-12-13T05:17:31.189Z"
   },
   {
    "duration": 3,
    "start_time": "2024-12-13T05:17:31.202Z"
   },
   {
    "duration": 6,
    "start_time": "2024-12-13T05:17:31.207Z"
   },
   {
    "duration": 10,
    "start_time": "2024-12-13T05:17:31.214Z"
   },
   {
    "duration": 6,
    "start_time": "2024-12-13T05:17:31.225Z"
   },
   {
    "duration": 55,
    "start_time": "2024-12-13T05:17:31.233Z"
   },
   {
    "duration": 235,
    "start_time": "2024-12-13T05:17:31.290Z"
   },
   {
    "duration": 6,
    "start_time": "2024-12-13T05:17:31.527Z"
   },
   {
    "duration": 495,
    "start_time": "2024-12-13T05:17:31.535Z"
   },
   {
    "duration": 5,
    "start_time": "2024-12-13T05:17:32.032Z"
   },
   {
    "duration": 13,
    "start_time": "2024-12-13T05:17:32.040Z"
   },
   {
    "duration": 32,
    "start_time": "2024-12-13T05:17:32.055Z"
   },
   {
    "duration": 1453,
    "start_time": "2024-12-13T05:17:59.946Z"
   },
   {
    "duration": 500,
    "start_time": "2024-12-13T05:18:15.609Z"
   },
   {
    "duration": 212299,
    "start_time": "2024-12-13T05:18:41.783Z"
   },
   {
    "duration": 58754,
    "start_time": "2024-12-13T05:22:54.408Z"
   },
   {
    "duration": 12,
    "start_time": "2024-12-13T05:24:49.584Z"
   },
   {
    "duration": 3,
    "start_time": "2024-12-13T05:25:11.973Z"
   },
   {
    "duration": 15,
    "start_time": "2024-12-13T05:28:33.695Z"
   },
   {
    "duration": 155,
    "start_time": "2024-12-13T15:47:10.492Z"
   },
   {
    "duration": 2639,
    "start_time": "2024-12-13T15:47:17.343Z"
   },
   {
    "duration": 35,
    "start_time": "2024-12-13T15:47:19.984Z"
   },
   {
    "duration": 11,
    "start_time": "2024-12-13T15:47:20.020Z"
   },
   {
    "duration": 10,
    "start_time": "2024-12-13T15:47:20.032Z"
   },
   {
    "duration": 4,
    "start_time": "2024-12-13T15:47:20.045Z"
   },
   {
    "duration": 6,
    "start_time": "2024-12-13T15:47:20.050Z"
   },
   {
    "duration": 9,
    "start_time": "2024-12-13T15:47:20.059Z"
   },
   {
    "duration": 16,
    "start_time": "2024-12-13T15:47:20.069Z"
   },
   {
    "duration": 239,
    "start_time": "2024-12-13T15:47:20.086Z"
   },
   {
    "duration": 503,
    "start_time": "2024-12-13T15:47:20.327Z"
   },
   {
    "duration": 4,
    "start_time": "2024-12-13T15:47:20.832Z"
   },
   {
    "duration": 14,
    "start_time": "2024-12-13T15:47:20.837Z"
   },
   {
    "duration": 8,
    "start_time": "2024-12-13T15:47:20.852Z"
   },
   {
    "duration": 1592,
    "start_time": "2024-12-13T15:47:20.863Z"
   },
   {
    "duration": 504,
    "start_time": "2024-12-13T15:47:22.457Z"
   },
   {
    "duration": 58361,
    "start_time": "2024-12-13T15:47:22.963Z"
   },
   {
    "duration": 11,
    "start_time": "2024-12-13T15:48:21.326Z"
   },
   {
    "duration": 3,
    "start_time": "2024-12-13T15:48:21.339Z"
   },
   {
    "duration": 15,
    "start_time": "2024-12-13T15:48:21.344Z"
   },
   {
    "duration": 985,
    "start_time": "2024-12-13T15:49:37.485Z"
   },
   {
    "duration": 21,
    "start_time": "2024-12-13T15:49:38.472Z"
   },
   {
    "duration": 9,
    "start_time": "2024-12-13T15:49:38.495Z"
   },
   {
    "duration": 20,
    "start_time": "2024-12-13T15:49:38.506Z"
   },
   {
    "duration": 3,
    "start_time": "2024-12-13T15:49:38.527Z"
   },
   {
    "duration": 6,
    "start_time": "2024-12-13T15:49:38.532Z"
   },
   {
    "duration": 9,
    "start_time": "2024-12-13T15:49:38.539Z"
   },
   {
    "duration": 15,
    "start_time": "2024-12-13T15:49:38.549Z"
   },
   {
    "duration": 211,
    "start_time": "2024-12-13T15:49:38.565Z"
   },
   {
    "duration": 522,
    "start_time": "2024-12-13T15:49:38.779Z"
   },
   {
    "duration": 4,
    "start_time": "2024-12-13T15:49:39.302Z"
   },
   {
    "duration": 23,
    "start_time": "2024-12-13T15:49:39.308Z"
   },
   {
    "duration": 8,
    "start_time": "2024-12-13T15:49:39.332Z"
   },
   {
    "duration": 1547,
    "start_time": "2024-12-13T15:49:39.342Z"
   },
   {
    "duration": 509,
    "start_time": "2024-12-13T15:49:40.890Z"
   },
   {
    "duration": 58504,
    "start_time": "2024-12-13T15:49:41.400Z"
   },
   {
    "duration": 17,
    "start_time": "2024-12-13T15:50:39.907Z"
   },
   {
    "duration": 3,
    "start_time": "2024-12-13T15:50:39.925Z"
   },
   {
    "duration": 14,
    "start_time": "2024-12-13T15:50:39.930Z"
   },
   {
    "duration": 3,
    "start_time": "2024-12-13T15:55:59.938Z"
   },
   {
    "duration": 912,
    "start_time": "2024-12-13T15:58:20.671Z"
   },
   {
    "duration": 20,
    "start_time": "2024-12-13T15:58:21.586Z"
   },
   {
    "duration": 18,
    "start_time": "2024-12-13T15:58:21.608Z"
   },
   {
    "duration": 9,
    "start_time": "2024-12-13T15:58:21.628Z"
   },
   {
    "duration": 11,
    "start_time": "2024-12-13T15:58:21.639Z"
   },
   {
    "duration": 6,
    "start_time": "2024-12-13T15:58:21.652Z"
   },
   {
    "duration": 10,
    "start_time": "2024-12-13T15:58:21.660Z"
   },
   {
    "duration": 15,
    "start_time": "2024-12-13T15:58:21.671Z"
   },
   {
    "duration": 222,
    "start_time": "2024-12-13T15:58:21.687Z"
   },
   {
    "duration": 502,
    "start_time": "2024-12-13T15:58:21.911Z"
   },
   {
    "duration": 7,
    "start_time": "2024-12-13T15:58:22.417Z"
   },
   {
    "duration": 13,
    "start_time": "2024-12-13T15:58:22.426Z"
   },
   {
    "duration": 8,
    "start_time": "2024-12-13T15:58:22.440Z"
   },
   {
    "duration": 1558,
    "start_time": "2024-12-13T15:58:22.451Z"
   },
   {
    "duration": 506,
    "start_time": "2024-12-13T15:58:24.011Z"
   },
   {
    "duration": 235,
    "start_time": "2024-12-13T15:58:24.524Z"
   },
   {
    "duration": 0,
    "start_time": "2024-12-13T15:58:24.761Z"
   },
   {
    "duration": 0,
    "start_time": "2024-12-13T15:58:24.762Z"
   },
   {
    "duration": 0,
    "start_time": "2024-12-13T15:58:24.763Z"
   },
   {
    "duration": 16,
    "start_time": "2024-12-13T15:59:12.158Z"
   },
   {
    "duration": 936,
    "start_time": "2024-12-13T15:59:55.396Z"
   },
   {
    "duration": 21,
    "start_time": "2024-12-13T15:59:56.334Z"
   },
   {
    "duration": 9,
    "start_time": "2024-12-13T15:59:56.357Z"
   },
   {
    "duration": 8,
    "start_time": "2024-12-13T15:59:56.368Z"
   },
   {
    "duration": 3,
    "start_time": "2024-12-13T15:59:56.378Z"
   },
   {
    "duration": 5,
    "start_time": "2024-12-13T15:59:56.383Z"
   },
   {
    "duration": 37,
    "start_time": "2024-12-13T15:59:56.390Z"
   },
   {
    "duration": 16,
    "start_time": "2024-12-13T15:59:56.429Z"
   },
   {
    "duration": 199,
    "start_time": "2024-12-13T15:59:56.446Z"
   },
   {
    "duration": 451,
    "start_time": "2024-12-13T15:59:56.646Z"
   },
   {
    "duration": 4,
    "start_time": "2024-12-13T15:59:57.098Z"
   },
   {
    "duration": 26,
    "start_time": "2024-12-13T15:59:57.104Z"
   },
   {
    "duration": 10,
    "start_time": "2024-12-13T15:59:57.131Z"
   },
   {
    "duration": 1563,
    "start_time": "2024-12-13T15:59:57.144Z"
   },
   {
    "duration": 501,
    "start_time": "2024-12-13T15:59:58.709Z"
   },
   {
    "duration": 241,
    "start_time": "2024-12-13T15:59:59.212Z"
   },
   {
    "duration": 0,
    "start_time": "2024-12-13T15:59:59.455Z"
   },
   {
    "duration": 0,
    "start_time": "2024-12-13T15:59:59.456Z"
   },
   {
    "duration": 0,
    "start_time": "2024-12-13T15:59:59.457Z"
   },
   {
    "duration": 37477,
    "start_time": "2024-12-13T16:00:47.194Z"
   },
   {
    "duration": 12,
    "start_time": "2024-12-13T16:01:35.567Z"
   },
   {
    "duration": 3,
    "start_time": "2024-12-13T16:01:42.740Z"
   },
   {
    "duration": 15,
    "start_time": "2024-12-13T16:01:55.621Z"
   }
  ],
  "kernelspec": {
   "display_name": "Python 3 (ipykernel)",
   "language": "python",
   "name": "python3"
  },
  "language_info": {
   "codemirror_mode": {
    "name": "ipython",
    "version": 3
   },
   "file_extension": ".py",
   "mimetype": "text/x-python",
   "name": "python",
   "nbconvert_exporter": "python",
   "pygments_lexer": "ipython3",
   "version": "3.12.4"
  },
  "toc": {
   "base_numbering": 1,
   "nav_menu": {},
   "number_sections": true,
   "sideBar": true,
   "skip_h1_title": true,
   "title_cell": "Table of Contents",
   "title_sidebar": "Contents",
   "toc_cell": false,
   "toc_position": {},
   "toc_section_display": true,
   "toc_window_display": false
  }
 },
 "nbformat": 4,
 "nbformat_minor": 4
}
